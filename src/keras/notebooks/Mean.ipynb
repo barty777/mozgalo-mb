{
 "cells": [
  {
   "cell_type": "code",
   "execution_count": 13,
   "metadata": {},
   "outputs": [],
   "source": [
    "from keras.models import load_model\n",
    "import cv2\n",
    "import numpy as np\n",
    "from metrics import Metrics, top_3_acc\n",
    "from os import listdir\n",
    "from PIL import Image\n",
    "import matplotlib.pyplot as plt\n",
    "%matplotlib inline\n",
    "import os\n",
    "from statistics import median"
   ]
  },
  {
   "cell_type": "code",
   "execution_count": 10,
   "metadata": {},
   "outputs": [],
   "source": [
    "files = [os.path.join(dirpath, filename) for dirpath, dirnames, filenames in os.walk(\"../../mozgalo/\") \n",
    "                                 for filename in filenames]"
   ]
  },
  {
   "cell_type": "code",
   "execution_count": 14,
   "metadata": {},
   "outputs": [
    {
     "name": "stdout",
     "output_type": "stream",
     "text": [
      "0.5390984360625575\n",
      "ukupno:  43178 ratio:  0.5471441227400128\n"
     ]
    }
   ],
   "source": [
    "counter = 0\n",
    "final_ratio=0.0\n",
    "ratios = []\n",
    "for file in files:\n",
    "    if file.endswith(\".jpg\"):\n",
    "        counter += 1\n",
    "        im = Image.open(file)\n",
    "        width, height = im.size\n",
    "        ratio = float(width)/height\n",
    "        ratios.append(ratio)\n",
    "        final_ratio += ratio\n",
    "        \n",
    "print(median(ratios))\n",
    "\n",
    "print(\"ukupno: \",counter, \"ratio: \", final_ratio/counter)\n",
    "        \n",
    "        "
   ]
  },
  {
   "cell_type": "code",
   "execution_count": null,
   "metadata": {},
   "outputs": [],
   "source": []
  }
 ],
 "metadata": {
  "kernelspec": {
   "display_name": "Python (other-env)",
   "language": "python",
   "name": "other-env"
  },
  "language_info": {
   "codemirror_mode": {
    "name": "ipython",
    "version": 3
   },
   "file_extension": ".py",
   "mimetype": "text/x-python",
   "name": "python",
   "nbconvert_exporter": "python",
   "pygments_lexer": "ipython3",
   "version": "3.5.1"
  }
 },
 "nbformat": 4,
 "nbformat_minor": 2
}
