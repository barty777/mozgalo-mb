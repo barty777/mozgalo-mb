{
 "cells": [
  {
   "cell_type": "code",
   "execution_count": 1,
   "metadata": {},
   "outputs": [],
   "source": [
    "import sys\n",
    "import os\n",
    "import torch\n",
    "import numpy as np\n",
    "import shutil\n",
    "\n",
    "from torch.utils.data import Dataset, DataLoader\n",
    "from torch.autograd import Variable\n",
    "from torchvision import transforms\n",
    "from PIL import Image\n",
    "from PIL import ImageFile\n",
    "\n",
    "sys.path.insert(0, '..')\n",
    "from data import crop_upper_part\n",
    "from model import SqueezeModelSoftmax\n",
    "\n",
    "import pickle\n",
    "import pdb"
   ]
  },
  {
   "cell_type": "markdown",
   "metadata": {},
   "source": [
    "### Setup parameters"
   ]
  },
  {
   "cell_type": "code",
   "execution_count": 2,
   "metadata": {},
   "outputs": [],
   "source": [
    "# path to a PyTorch state dict\n",
    "MODEL_PATH = '../models/Standard-No-Test/26-no-test_epoch_10-valLoss_0.02410-valF1_0.99846'  \n",
    "THRESHOLDS = \"../models/thresholds_2std.pkl\"\n",
    "NUM_CLASSES = 26\n",
    "INPUT_SHAPE = (3, 370, 400) # C x H x W\n",
    "BATCH_SIZE = 64\n",
    "\n",
    "# path to a non-annotated dataset where all images are in same folder with name: <integer_id>.jpg\n",
    "DATASET_PATH = '../../data/robust_ml_challenge_testset'\n",
    "\n",
    "# path to empty folder (it is not mandatory that it exists) - where annotated dataset will be stored\n",
    "OUTPUT_ANNOTATED_PATH = '../../data/annotated_ds'\n",
    "\n",
    "OUTPUT_CSV_PATH = '../output_no_test_focal.csv'\n",
    "\n",
    "NUM_THREADS = 4 # number of threads to use - should be same as number of virtual CPU cores\n",
    "USE_GPU = True # use CUDA related stuff\n",
    "\n",
    "ImageFile.LOAD_TRUNCATED_IMAGES = True"
   ]
  },
  {
   "cell_type": "markdown",
   "metadata": {},
   "source": [
    "### Class indices"
   ]
  },
  {
   "cell_type": "code",
   "execution_count": 3,
   "metadata": {},
   "outputs": [],
   "source": [
    "class_labels = {\n",
    " 'Albertsons': 0,\n",
    " 'BJs': 1,\n",
    " 'CVSPharmacy': 2,\n",
    " 'Costco': 3,\n",
    " 'FredMeyer': 4,\n",
    " 'Frys': 5,\n",
    " 'HEB': 6,\n",
    " 'HarrisTeeter': 7,\n",
    " 'HyVee': 8,\n",
    " 'JewelOsco': 9,\n",
    " 'KingSoopers': 10,\n",
    " 'Kroger': 11,\n",
    " 'Meijer': 12,\n",
    " 'Other': 13,\n",
    " 'Publix': 14,\n",
    " 'Safeway': 15,\n",
    " 'SamsClub': 16,\n",
    " 'ShopRite': 17,\n",
    " 'Smiths': 18,\n",
    " 'StopShop': 19,\n",
    " 'Target': 20,\n",
    " 'Walgreens': 21,\n",
    " 'Walmart': 22,\n",
    " 'Wegmans': 23,\n",
    " 'WholeFoodsMarket': 24,\n",
    " 'WinCoFoods': 25}\n",
    "\n",
    "class_dict = {v: k for k, v in class_labels.items()}"
   ]
  },
  {
   "cell_type": "markdown",
   "metadata": {},
   "source": [
    "### Helper methods"
   ]
  },
  {
   "cell_type": "code",
   "execution_count": 4,
   "metadata": {},
   "outputs": [],
   "source": [
    "def data_preprocess_transformations(input_shape, crop_perc = 0.5):\n",
    "    \"\"\"Preprocess object for transforming image to model input\n",
    "    Args:\n",
    "        input_shape: model input shape (channels x height x width)\n",
    "        crop_perc: percent of how much image would be cropped from\n",
    "\n",
    "    Returns:\n",
    "        Composite of transforms objects.\n",
    "    \"\"\"\n",
    "    \n",
    "    num_channels, height, width = input_shape\n",
    "    \n",
    "    return transforms.Compose([\n",
    "        transforms.Lambda(lambda x: crop_upper_part(np.array(x), crop_perc)),\n",
    "        transforms.ToPILImage(),\n",
    "        transforms.Grayscale(num_channels),\n",
    "        transforms.Resize((height, width)),\n",
    "        transforms.ToTensor(),\n",
    "    ])\n",
    "\n",
    "def list_input_images(images_folder):\n",
    "    \"\"\"\n",
    "    Args:\n",
    "        images_folder: Folder with input images with name template: <int_id>.jpg\n",
    "\n",
    "    Returns:\n",
    "        List of tuples: (image_file_name, image_int_id)\n",
    "    \"\"\"\n",
    "    files = os.listdir(images_folder)\n",
    "    images = []\n",
    "    \n",
    "    for file in files:\n",
    "        \n",
    "        name_components = file.split(\".\")\n",
    "        extension = name_components[1].lower()\n",
    "        \n",
    "        if extension == 'jpg' or extension == 'jpeg':\n",
    "            image_id = int(name_components[0])\n",
    "            images.append((file, image_id))\n",
    "            \n",
    "    return sorted(images, key=lambda x: x[1])\n",
    "\n",
    "\n",
    "def open_image(image_path):\n",
    "    \"\"\"\n",
    "    Args:\n",
    "        image_path: Path to an image.\n",
    "\n",
    "    Returns:\n",
    "        PIL Image in RGB format.\n",
    "    \"\"\"\n",
    "    with open(image_path, 'rb') as f:\n",
    "        image = Image.open(f).convert(\"RGB\")\n",
    "    return image\n",
    "\n",
    "\n",
    "def predicted_store(prediction):\n",
    "    \"\"\"\n",
    "    Args:\n",
    "        prediction: Model probability output.\n",
    "        \n",
    "    Returns:\n",
    "        Most probable store (argmax)\n",
    "    \"\"\"\n",
    "    class_indice = np.argmax(prediction)\n",
    "    return class_dict[class_indice]\n",
    "\n",
    "\n",
    "def print_predicted_store_stats(predicted_stores):\n",
    "    unique, counts = np.unique(predicted_stores, return_counts=True)\n",
    "    stats_dict = dict(zip(unique, counts))\n",
    "    for store, count in stats_dict.items():\n",
    "        print(\"{:<16} => {}\".format(store, count))"
   ]
  },
  {
   "cell_type": "code",
   "execution_count": 5,
   "metadata": {},
   "outputs": [],
   "source": [
    "class TestDataset(Dataset):\n",
    "    \"\"\"Store recipts test dataset.\"\"\"\n",
    "\n",
    "    def __init__(self, root_dir, transform):\n",
    "        \"\"\"\n",
    "        Args:\n",
    "            root_dir (string): Directory with all the images.\n",
    "            transform (callable, optional): Optional transform to be applied\n",
    "                on a sample.\n",
    "        \"\"\"\n",
    "        self.images = list_input_images(root_dir)\n",
    "        self.root_dir = root_dir\n",
    "        self.transform = transform\n",
    "\n",
    "    def __len__(self):\n",
    "        return len(self.images)\n",
    "\n",
    "    def __getitem__(self, idx):\n",
    "        image_path = os.path.join(self.root_dir, self.images[idx][0])\n",
    "        image = open_image(image_path)\n",
    "        image = self.transform(image)\n",
    "        return image"
   ]
  },
  {
   "cell_type": "markdown",
   "metadata": {},
   "source": [
    "### Load model and make predictions (softmax)"
   ]
  },
  {
   "cell_type": "code",
   "execution_count": 6,
   "metadata": {},
   "outputs": [],
   "source": [
    "model = SqueezeModelSoftmax(num_classes=NUM_CLASSES)\n",
    "model_state_dict = torch.load(MODEL_PATH, map_location=lambda storage, loc: storage)\n",
    "model.load_state_dict(model_state_dict)\n",
    "model.eval()\n",
    "torch.set_num_threads(NUM_THREADS)\n",
    "\n",
    "if USE_GPU:\n",
    "    model.cuda(0)"
   ]
  },
  {
   "cell_type": "code",
   "execution_count": 48,
   "metadata": {},
   "outputs": [
    {
     "name": "stdout",
     "output_type": "stream",
     "text": [
      "Batch 157/157\r"
     ]
    }
   ],
   "source": [
    "def var(tensor):\n",
    "    if USE_GPU:\n",
    "        tensor = tensor.cuda(0)\n",
    "    return tensor\n",
    "\n",
    "predictions = []\n",
    "preprocess_transformations = data_preprocess_transformations(INPUT_SHAPE)\n",
    "test_set = TestDataset(DATASET_PATH, preprocess_transformations)\n",
    "loader = DataLoader(test_set,\n",
    "                    batch_size=BATCH_SIZE,\n",
    "                    shuffle=False,\n",
    "                    pin_memory=True,\n",
    "                    num_workers=NUM_THREADS)\n",
    "\n",
    "num_batches = len(loader)\n",
    "for batch_index, test_batch in enumerate(loader):\n",
    "    \n",
    "    batch_input_tensors = var(test_batch)\n",
    "\n",
    "    batch_predictions = model(batch_input_tensors).cpu().data.numpy()\n",
    "    predictions.extend(batch_predictions)\n",
    "    \n",
    "    print('Batch {}/{}'.format(batch_index + 1, num_batches), end=\"\\r\", flush=True)"
   ]
  },
  {
   "cell_type": "markdown",
   "metadata": {},
   "source": [
    "### Process predictions"
   ]
  },
  {
   "cell_type": "code",
   "execution_count": 95,
   "metadata": {},
   "outputs": [],
   "source": [
    "# TODO: Heuristics \n",
    "\n",
    "# Load thresholds calculated on the validation set\n",
    "with open(THRESHOLDS, \"rb\") as f:\n",
    "    thr_dict = pickle.load(f)\n",
    "\n",
    "def threshold_heuristic(predictions, thr_dict):\n",
    "    \"\"\"\n",
    "    Per-class threshold heuristic\n",
    "    \"\"\"\n",
    "    new_preds = []\n",
    "    \n",
    "    for act in predictions:\n",
    "        pred_label = np.argmax(act)\n",
    "        if class_dict[pred_label] != \"Other\":\n",
    "            if np.max(act) < thr_dict[class_dict[pred_label]]:\n",
    "                # Replace as if the Other is predicted because it doesn't satsify the threshold\n",
    "                other_vector = np.zeros(NUM_CLASSES, dtype=np.float32)\n",
    "                other_vector[class_labels[\"Other\"]] = 1\n",
    "                \n",
    "                new_preds.append(other_vector)\n",
    "            else:\n",
    "                new_preds.append(act)\n",
    "        else:\n",
    "            new_preds.append(act)\n",
    "            \n",
    "    return new_preds\n",
    "\n",
    "def identity_heuristic(predictions):\n",
    "    return predictions\n",
    "\n",
    "predictions_new = threshold_heuristic(predictions, thr_dict=thr_dict)\n",
    "predictions_id = identity_heuristic(predictions)"
   ]
  },
  {
   "cell_type": "code",
   "execution_count": 96,
   "metadata": {},
   "outputs": [],
   "source": [
    "# Lets make predictions\n",
    "\n",
    "predicted_stores = [predicted_store(prediction) for prediction in predictions_new]\n",
    "predicted_stores_id = [predicted_store(prediction) for prediction in predictions_id]"
   ]
  },
  {
   "cell_type": "markdown",
   "metadata": {},
   "source": [
    "### Save and annotate outputs"
   ]
  },
  {
   "cell_type": "code",
   "execution_count": 98,
   "metadata": {},
   "outputs": [],
   "source": [
    "# Save predicted stores to CSV\n",
    "\n",
    "with open(OUTPUT_CSV_PATH, \"w\") as f:\n",
    "    for i, store in enumerate(predicted_stores):\n",
    "        f.write(store)\n",
    "        if i < len(predicted_stores) - 1:\n",
    "            f.write(\"\\n\")"
   ]
  },
  {
   "cell_type": "code",
   "execution_count": 97,
   "metadata": {},
   "outputs": [
    {
     "name": "stdout",
     "output_type": "stream",
     "text": [
      "WholeFoodsMarket => 189\n",
      "Publix           => 175\n",
      "CVSPharmacy      => 262\n",
      "Meijer           => 158\n",
      "Other            => 5070\n",
      "Walmart          => 191\n",
      "HEB              => 192\n",
      "WinCoFoods       => 188\n",
      "Wegmans          => 191\n",
      "Kroger           => 141\n",
      "BJs              => 200\n",
      "JewelOsco        => 450\n",
      "Safeway          => 165\n",
      "Costco           => 191\n",
      "ShopRite         => 200\n",
      "Target           => 186\n",
      "FredMeyer        => 198\n",
      "Smiths           => 181\n",
      "SamsClub         => 193\n",
      "HyVee            => 177\n",
      "KingSoopers      => 177\n",
      "Frys             => 187\n",
      "Albertsons       => 138\n",
      "HarrisTeeter     => 134\n",
      "Walgreens        => 165\n",
      "StopShop         => 301\n",
      "\n",
      "WholeFoodsMarket => 202\n",
      "Publix           => 175\n",
      "CVSPharmacy      => 323\n",
      "Meijer           => 324\n",
      "Other            => 3551\n",
      "Walmart          => 323\n",
      "HEB              => 208\n",
      "WinCoFoods       => 235\n",
      "Wegmans          => 201\n",
      "Kroger           => 570\n",
      "BJs              => 200\n",
      "JewelOsco        => 450\n",
      "Safeway          => 189\n",
      "Costco           => 311\n",
      "ShopRite         => 207\n",
      "Target           => 193\n",
      "FredMeyer        => 221\n",
      "Smiths           => 270\n",
      "SamsClub         => 193\n",
      "HyVee            => 313\n",
      "KingSoopers      => 183\n",
      "Frys             => 197\n",
      "Albertsons       => 271\n",
      "HarrisTeeter     => 174\n",
      "Walgreens        => 198\n",
      "StopShop         => 318\n"
     ]
    }
   ],
   "source": [
    "# Print current statistics\n",
    "\n",
    "print_predicted_store_stats(predicted_stores)\n",
    "print()\n",
    "print_predicted_store_stats(predicted_stores_id)"
   ]
  },
  {
   "cell_type": "code",
   "execution_count": null,
   "metadata": {},
   "outputs": [],
   "source": [
    "# Annotate - copy images to new folder - separated by class\n",
    "\n",
    "if not os.path.exists(OUTPUT_ANNOTATED_PATH):\n",
    "    os.makedirs(OUTPUT_ANNOTATED_PATH)\n",
    "    \n",
    "num_stores = len(predicted_stores)\n",
    "    \n",
    "for index, store in enumerate(predicted_stores):\n",
    "    target_folder_path = os.path.join(OUTPUT_ANNOTATED_PATH, store)\n",
    "    if not os.path.exists(target_folder_path):\n",
    "        os.makedirs(target_folder_path)\n",
    "    \n",
    "    filename = str(index) + \".jpg\"\n",
    "    src_file_path = os.path.join(DATASET_PATH, filename)\n",
    "\n",
    "    shutil.copy2(src_file_path, target_folder_path)\n",
    "    print('Image {}/{}'.format(index + 1, num_stores), end=\"\\r\", flush=True)"
   ]
  },
  {
   "cell_type": "code",
   "execution_count": null,
   "metadata": {},
   "outputs": [],
   "source": []
  }
 ],
 "metadata": {
  "kernelspec": {
   "display_name": "Python 3",
   "language": "python",
   "name": "python3"
  },
  "language_info": {
   "codemirror_mode": {
    "name": "ipython",
    "version": 3
   },
   "file_extension": ".py",
   "mimetype": "text/x-python",
   "name": "python",
   "nbconvert_exporter": "python",
   "pygments_lexer": "ipython3",
   "version": "3.5.2"
  }
 },
 "nbformat": 4,
 "nbformat_minor": 2
}
