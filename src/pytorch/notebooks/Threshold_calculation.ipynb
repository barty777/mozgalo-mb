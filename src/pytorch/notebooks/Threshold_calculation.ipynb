{
 "cells": [
  {
   "cell_type": "code",
   "execution_count": null,
   "metadata": {},
   "outputs": [],
   "source": [
    "import sys\n",
    "import os\n",
    "import torch\n",
    "import numpy as np\n",
    "import shutil\n",
    "\n",
    "from torch.utils.data import Dataset, DataLoader\n",
    "from torch.autograd import Variable\n",
    "from torchvision import transforms\n",
    "from PIL import Image\n",
    "from PIL import ImageFile\n",
    "from torchvision.datasets import ImageFolder\n",
    "\n",
    "sys.path.insert(0, '..')\n",
    "from data import crop_upper_part\n",
    "from model import SqueezeModelSoftmax\n",
    "\n",
    "from sklearn.metrics import classification_report\n",
    "import pickle\n",
    "\n",
    "import matplotlib.pyplot as plt\n",
    "\n",
    "%matplotlib inline\n",
    "\n",
    "import pdb"
   ]
  },
  {
   "cell_type": "code",
   "execution_count": null,
   "metadata": {},
   "outputs": [],
   "source": [
    "# path to a PyTorch state dict\n",
    "MODEL_PATH = '../models/Standard-No-Test/26-no-test_epoch_10-valLoss_0.02410-valF1_0.99846' \n",
    "NUM_CLASSES = 26\n",
    "INPUT_SHAPE = (3, 370, 400) # C x H x W\n",
    "BATCH_SIZE = 64\n",
    "\n",
    "# path to a non-annotated dataset where all images are in same folder with name: <integer_id>.jpg\n",
    "DATASET_PATH = '../../data/dataset/validation'\n",
    "\n",
    "NUM_THREADS = 4 # number of threads to use - should be same as number of virtual CPU cores\n",
    "USE_GPU = True # use CUDA related stuff\n",
    "\n",
    "ImageFile.LOAD_TRUNCATED_IMAGES = True"
   ]
  },
  {
   "cell_type": "code",
   "execution_count": null,
   "metadata": {},
   "outputs": [],
   "source": [
    "class_labels = {\n",
    " 'Albertsons': 0,\n",
    " 'BJs': 1,\n",
    " 'CVSPharmacy': 2,\n",
    " 'Costco': 3,\n",
    " 'FredMeyer': 4,\n",
    " 'Frys': 5,\n",
    " 'HEB': 6,\n",
    " 'HarrisTeeter': 7,\n",
    " 'HyVee': 8,\n",
    " 'JewelOsco': 9,\n",
    " 'KingSoopers': 10,\n",
    " 'Kroger': 11,\n",
    " 'Meijer': 12,\n",
    " 'Other': 13,\n",
    " 'Publix': 14,\n",
    " 'Safeway': 15,\n",
    " 'SamsClub': 16,\n",
    " 'ShopRite': 17,\n",
    " 'Smiths': 18,\n",
    " 'StopShop': 19,\n",
    " 'Target': 20,\n",
    " 'Walgreens': 21,\n",
    " 'Walmart': 22,\n",
    " 'Wegmans': 23,\n",
    " 'WholeFoodsMarket': 24,\n",
    " 'WinCoFoods': 25}\n",
    "\n",
    "class_dict = {v: k for k, v in class_labels.items()}"
   ]
  },
  {
   "cell_type": "code",
   "execution_count": null,
   "metadata": {},
   "outputs": [],
   "source": [
    "def data_preprocess_transformations(input_shape, crop_perc = 0.5):\n",
    "    \"\"\"Preprocess object for transforming image to model input\n",
    "    Args:\n",
    "        input_shape: model input shape (channels x height x width)\n",
    "        crop_perc: percent of how much image would be cropped from\n",
    "\n",
    "    Returns:\n",
    "        Composite of transforms objects.\n",
    "    \"\"\"\n",
    "    \n",
    "    num_channels, height, width = input_shape\n",
    "    \n",
    "    return transforms.Compose([\n",
    "        transforms.Lambda(lambda x: crop_upper_part(np.array(x), crop_perc)),\n",
    "        transforms.ToPILImage(),\n",
    "        transforms.RandomAffine(                                                                                                                                                                                                                                                  \n",
    "             degrees=3, scale=(0.3, 1)),\n",
    "        transforms.Grayscale(num_channels),\n",
    "        transforms.Resize((height, width)),\n",
    "        transforms.ToTensor(),\n",
    "    ])"
   ]
  },
  {
   "cell_type": "code",
   "execution_count": null,
   "metadata": {},
   "outputs": [],
   "source": [
    "val_transform = data_preprocess_transformations(INPUT_SHAPE, crop_perc=0.5)\n",
    "validation_dataset = ImageFolder(root=DATASET_PATH,                                                  \n",
    "                                      transform=val_transform)                                                                           \n",
    "    \n",
    "validation_dataset_loader = DataLoader(validation_dataset,                                                                          \n",
    "                                            batch_size=BATCH_SIZE,                                                                  \n",
    "                                            shuffle=False,                                                                               \n",
    "                                            num_workers=NUM_THREADS)                                                             \n",
    "                                "
   ]
  },
  {
   "cell_type": "code",
   "execution_count": null,
   "metadata": {},
   "outputs": [],
   "source": [
    "# Load model\n",
    "model = SqueezeModelSoftmax(num_classes=NUM_CLASSES)\n",
    "model_state_dict = torch.load(MODEL_PATH, map_location=lambda storage, loc: storage)\n",
    "model.load_state_dict(model_state_dict)\n",
    "model.eval()\n",
    "torch.set_num_threads(NUM_THREADS)\n",
    "\n",
    "if USE_GPU:\n",
    "    model.cuda(0)"
   ]
  },
  {
   "cell_type": "code",
   "execution_count": null,
   "metadata": {},
   "outputs": [],
   "source": [
    "def var(tensor):\n",
    "    if USE_GPU:\n",
    "        tensor = tensor.cuda(0)\n",
    "    return tensor\n",
    "\n",
    "# Run prediction\n",
    "predictions, gts = [], []\n",
    "num_batches = len(validation_dataset_loader)\n",
    "\n",
    "for batch_index, (test_batch, ground_truth) in enumerate(validation_dataset_loader):\n",
    "    batch_input_tensors = var(test_batch)\n",
    "\n",
    "    batch_predictions = model(batch_input_tensors).cpu().data.numpy()\n",
    "    predictions.extend(batch_predictions)\n",
    "    gts.extend(ground_truth.cpu().data.numpy())\n",
    "    \n",
    "    print('Batch {}/{}'.format(batch_index + 1, num_batches), end=\"\\r\", flush=True)\n",
    "\n",
    "predictions = np.array(predictions)"
   ]
  },
  {
   "cell_type": "code",
   "execution_count": null,
   "metadata": {},
   "outputs": [],
   "source": [
    "print(classification_report(gts, np.argmax(predictions, 1)))"
   ]
  },
  {
   "cell_type": "code",
   "execution_count": null,
   "metadata": {},
   "outputs": [],
   "source": [
    "# Extract per class max activations\n",
    "act_dict = {key: [] for key in class_labels.keys()}\n",
    "\n",
    "for act, gt in zip(predictions, gts):\n",
    "    pred = np.argmax(act)\n",
    "    if pred == gt:\n",
    "        act_dict[class_dict[pred]].append(np.max(act)) "
   ]
  },
  {
   "cell_type": "code",
   "execution_count": null,
   "metadata": {},
   "outputs": [],
   "source": [
    "THR_FILE = \"../models/thresholds_2std.pkl\"\n",
    "thr_dict = dict()\n",
    "for k, act in act_dict.items():\n",
    "    act = np.array(act)\n",
    "    # Remove outliers\n",
    "    #act = act[act > 1 - np.std(act) * 4]\n",
    "    \n",
    "    print(\"{}: Mean {:.5f}, std {:.5f}\".format(k, np.mean(act), np.std(act)))\n",
    "    thr_dict[k] = 1 - 6 * np.std(act)\n",
    "\n",
    "with open(THR_FILE, \"wb\") as f:\n",
    "    pickle.dump(thr_dict, f)"
   ]
  },
  {
   "cell_type": "code",
   "execution_count": null,
   "metadata": {
    "scrolled": false
   },
   "outputs": [],
   "source": [
    "### Plot activation histogram\n",
    "\n",
    "for k, v in act_dict.items():\n",
    "    x = list(filter(lambda x: x > 0.2, v))\n",
    "\n",
    "    plt.hist(x, 50, facecolor='green', alpha=0.75)\n",
    "    plt.axvline(thr_dict[k], color=\"red\")\n",
    "    plt.title(k)\n",
    "    plt.show()"
   ]
  }
 ],
 "metadata": {
  "kernelspec": {
   "display_name": "Python 3",
   "language": "python",
   "name": "python3"
  },
  "language_info": {
   "codemirror_mode": {
    "name": "ipython",
    "version": 3
   },
   "file_extension": ".py",
   "mimetype": "text/x-python",
   "name": "python",
   "nbconvert_exporter": "python",
   "pygments_lexer": "ipython3",
   "version": "3.5.2"
  }
 },
 "nbformat": 4,
 "nbformat_minor": 2
}
