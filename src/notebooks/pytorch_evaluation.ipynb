{
 "cells": [
  {
   "cell_type": "code",
   "execution_count": 31,
   "metadata": {},
   "outputs": [],
   "source": [
    "import sys\n",
    "sys.path.append(\"..\")\n",
    "\n",
    "from pytorch.model import LModel\n",
    "from torch.utils.data import DataLoader\n",
    "from torchvision import transforms, datasets\n",
    "from sklearn import metrics\n",
    "import torch\n",
    "from torch.autograd import Variable\n",
    "import numpy as np"
   ]
  },
  {
   "cell_type": "code",
   "execution_count": 77,
   "metadata": {},
   "outputs": [],
   "source": [
    "ANNOTATED_TEST_DATASET = '../data/mozgalo_split/validation'\n",
    "MODEL_PATH = \"../models/epoch_07-valLoss_0.00454-valAcc_0.99937\"\n",
    "CPU_CORES = 2\n",
    "BATCH_SIZE = 2\n",
    "NUM_CLASSES = 26\n",
    "USE_GPU = False"
   ]
  },
  {
   "cell_type": "code",
   "execution_count": 90,
   "metadata": {},
   "outputs": [],
   "source": [
    "def normalize(image):\n",
    "    image /= 255.\n",
    "    image -= 0.5\n",
    "\n",
    "    return image\n",
    "\n",
    "\n",
    "def crop_upper_part(image, percent=0.4):\n",
    "    height, _, _ = image.shape\n",
    "    point = int(percent * height)\n",
    "    return image[:point]\n",
    "\n",
    "def data_transformations(input_shape, crop_perc = 0.5):\n",
    "    return transforms.Compose([\n",
    "        transforms.Lambda(lambda x: crop_upper_part(np.array(x), crop_perc)),\n",
    "        transforms.ToPILImage(),\n",
    "        transforms.Grayscale(3),\n",
    "        transforms.Resize((input_shape[1], input_shape[2])),\n",
    "        transforms.Lambda(lambda x: normalize(np.array(x, dtype=np.float32))),\n",
    "        transforms.ToTensor(),\n",
    "    ])\n",
    "\n",
    "def var(tensor, volatile=False):\n",
    "    if USE_GPU:\n",
    "        tensor = tensor.cuda(0)\n",
    "    return Variable(tensor, volatile=volatile)\n",
    "\n",
    "def test(model, test_loader):\n",
    "    model.eval()\n",
    "    predictions, ground_truths = [], []\n",
    "    for i, test_batch in enumerate(test_loader):\n",
    "        test_x, test_y = (var(test_batch[0], volatile=True),\n",
    "                          var(test_batch[1], volatile=True))\n",
    "        logit = model(test_x)\n",
    "        y_pred = logit.max(1)[1]\n",
    "        \n",
    "        predictions.extend([x.data[0] for x in y_pred])\n",
    "        ground_truths.extend([x.data[0] for x in test_y])\n",
    "        \n",
    "       \n",
    "        print('Predicting batch {}/{}'.format(i + 1, len(test_loader)), end=\"\\r\", flush=True)\n",
    "        \n",
    "        if i == 1:\n",
    "            break\n",
    "        \n",
    "    return predictions, ground_truths\n",
    "    "
   ]
  },
  {
   "cell_type": "code",
   "execution_count": 89,
   "metadata": {},
   "outputs": [
    {
     "name": "stdout",
     "output_type": "stream",
     "text": [
      "Loaded model from: ../models/epoch_07-valLoss_0.00454-valAcc_0.99937\n"
     ]
    },
    {
     "name": "stderr",
     "output_type": "stream",
     "text": [
      "/home/bartol/.virtual_envs/mozgalo/lib/python3.6/site-packages/torch/nn/modules/module.py:514: UserWarning: src is not broadcastable to dst, but they have the same number of elements.  Falling back to deprecated pointwise behavior.\n",
      "  own_state[name].copy_(param)\n"
     ]
    }
   ],
   "source": [
    "# Load model\n",
    "model = LModel(margin=1, num_classes=NUM_CLASSES, fine_tune=True)\n",
    "\n",
    "\n",
    "model.load_state_dict(torch.load(MODEL_PATH, map_location=lambda storage, loc: storage))\n",
    "print(\"Loaded model from:\", MODEL_PATH)\n",
    "\n",
    "\n",
    "if USE_GPU:\n",
    "    model.cuda(0)"
   ]
  },
  {
   "cell_type": "code",
   "execution_count": 79,
   "metadata": {},
   "outputs": [],
   "source": [
    "test_transform = data_transformations(model.model.input_size)\n",
    "test_dataset = datasets.ImageFolder(root=ANNOTATED_TEST_DATASET, transform=test_transform)\n",
    "test_dataset_loader = torch.utils.data.DataLoader(test_dataset,\n",
    "                                                    batch_size=BATCH_SIZE,\n",
    "                                                    shuffle=True,\n",
    "                                                    num_workers=CPU_CORES)"
   ]
  },
  {
   "cell_type": "code",
   "execution_count": 91,
   "metadata": {},
   "outputs": [
    {
     "name": "stdout",
     "output_type": "stream",
     "text": [
      "Predicting batch 2/4500\r"
     ]
    }
   ],
   "source": [
    "pred, true = test(model, test_dataset_loader)"
   ]
  },
  {
   "cell_type": "code",
   "execution_count": 92,
   "metadata": {},
   "outputs": [
    {
     "name": "stdout",
     "output_type": "stream",
     "text": [
      "[24, 24, 24, 24] [24, 21, 24, 3]\n"
     ]
    }
   ],
   "source": [
    "print(pred, true)"
   ]
  },
  {
   "cell_type": "code",
   "execution_count": 62,
   "metadata": {},
   "outputs": [
    {
     "name": "stdout",
     "output_type": "stream",
     "text": [
      "             precision    recall  f1-score   support\n",
      "\n",
      "         18       0.00      0.00      0.00         1\n",
      "         24       0.00      0.00      0.00         0\n",
      "         25       0.00      0.00      0.00         5\n",
      "\n",
      "avg / total       0.00      0.00      0.00         6\n",
      "\n"
     ]
    },
    {
     "name": "stderr",
     "output_type": "stream",
     "text": [
      "/home/bartol/.virtual_envs/mozgalo/lib/python3.6/site-packages/sklearn/metrics/classification.py:1135: UndefinedMetricWarning: Precision and F-score are ill-defined and being set to 0.0 in labels with no predicted samples.\n",
      "  'precision', 'predicted', average, warn_for)\n",
      "/home/bartol/.virtual_envs/mozgalo/lib/python3.6/site-packages/sklearn/metrics/classification.py:1137: UndefinedMetricWarning: Recall and F-score are ill-defined and being set to 0.0 in labels with no true samples.\n",
      "  'recall', 'true', average, warn_for)\n"
     ]
    }
   ],
   "source": [
    "report = metrics.classification_report(true, pred)\n",
    "print(report)"
   ]
  }
 ],
 "metadata": {
  "kernelspec": {
   "display_name": "Python 3",
   "language": "python",
   "name": "python3"
  },
  "language_info": {
   "codemirror_mode": {
    "name": "ipython",
    "version": 3
   },
   "file_extension": ".py",
   "mimetype": "text/x-python",
   "name": "python",
   "nbconvert_exporter": "python",
   "pygments_lexer": "ipython3",
   "version": "3.6.4"
  }
 },
 "nbformat": 4,
 "nbformat_minor": 2
}
